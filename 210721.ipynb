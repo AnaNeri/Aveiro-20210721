{
 "cells": [
  {
   "cell_type": "markdown",
   "id": "e30f38a3",
   "metadata": {},
   "source": [
    "# Workshop\n",
    "\n",
    "*21 jul 2021*\n",
    "\n",
    "*by [Ana Neri](https://anac.nery.name/)*\n",
    "\n",
    "<img src=\"https://mapi.map.edu.pt/images/logo.png\" width=\"120px\" > \n",
    "<img src=\"https://inl.int/wp-content/uploads/2017/07/vector_horizontal.jpg\" width=\"120px\" > \n",
    "<img src=\"https://www.securitymagazine.pt/wp-content/uploads/2018/10/inesctec.png\" width=\"120px\" > \n",
    "<img src=\"https://cdn5.euraxess.org/sites/default/files/styles/news_and_events_details/public/news/cidma_logo_0.png?itok=INRB-T7j\" width=\"80px\" >\n",
    "\n",
    "\n",
    "----\n",
    "----\n",
    "\n",
    "### Content\n",
    "\n",
    "1. [Introduction](#intro) \n",
    "2. [Qubit](#qubit)\n",
    "3. [Single-qubit states](#state)\n",
    "4. [Single-qubit operations](#operations)\n",
    "5. [Multi-qubit states](#multi)\n",
    "6. [Deutsch-Josza Algorithm](#DJ)\n",
    "5. [IBM Q Provider](ibmq_provider)\n"
   ]
  },
  {
   "cell_type": "markdown",
   "id": "1b9e76fc",
   "metadata": {},
   "source": [
    "# 1. Introduction <a id ='intro'></a>\n",
    "\n",
    "----\n",
    "\"*Nature isn't classical, dammit, and if you want to make a simulation of nature, you'd better make it quantum mechanical, and by golly it's a wonderful problem, because it doesn't look so easy.*\" - Feynman.\n",
    "\n",
    "----\n",
    "\n",
    "IBM Q attempt to solve this problem with **qiskit**, a software development kit for quantum computation. \n",
    "\n",
    "\n",
    "## QISKit - an overview\n",
    "\n",
    "Qiskit is an open-source framework for working with quantum computers at the level of algorithms, quantum circuits, or even pulses. It can be installed and executed locally, but to execute your code in actual, public access quantum processors, you need to create a [IBM Quantum experience](https://quantum-computing.ibm.com/) account.\n",
    "\n",
    "Qiskit supports the *Python* language, which is itself compatible with multiple programming paradigms.\n",
    "\n",
    "The main pillar of this toolkit (which the majority of this workshop will feature) is Qiskit Terra.\n",
    "\n",
    "As of version `0.12`, Qiskit is composed of other 3 main modules:\n",
    "\n",
    "**Aer** is a simulator framework for the stack.\n",
    "\n",
    "Note that these simulations are performed on classical computers, and so are limited by classical resources.\n",
    "\n",
    "**Ignis** is a framework for understanding and mitigating noise in quantum circuits and systems.\n",
    "\n",
    "**Aqua** provides higher-level functionality by use of a library of quantum algorithms upon which applications of near term quantum computing can be built.\n",
    "\n",
    "On version `0.25.0` qiskit-aqua has been split in new packages:\n",
    "* qiskit-otimization;\n",
    "* qiskit-machine-learning;\n",
    "* qiskit-nature;\n",
    "* qiskit finance.\n",
    "\n",
    "Qiskit is still under an intense development cycle, which means that new updates and features are added several times a year."
   ]
  },
  {
   "cell_type": "markdown",
   "id": "9354956e",
   "metadata": {},
   "source": [
    "# 2. Qubit <a id ='qubit'></a>\n",
    " \n",
    "A physical qubit\n",
    "\n",
    "Any quantum system with two orthogonal states can be used to represent a quantum bit, or qubit for short.\n",
    "\n",
    "How can we represent quantum states and associated operations?"
   ]
  },
  {
   "cell_type": "markdown",
   "id": "0ffef80d",
   "metadata": {},
   "source": [
    "# 3. Single qubit states<a id='states'></a>\n",
    "\n",
    "A single qubit quantum state $| \\psi \\rangle$ can be written as a complex superposition of its basis states,\n",
    "which by convention are generally named $|0 \\rangle$ and $|1 \\rangle$.\n",
    "\n",
    "$$|\\psi \\rangle = \\alpha|0\\rangle + \\beta |1\\rangle$$\n",
    "\n",
    "Here, $\\alpha$ and $\\beta$ are probability amplitudes generally described by complex numbers.\n",
    "When the qubit is measured, the quantum system \"collapses\" to the state $|0\\rangle$ with probability $|\\alpha|^2$, or to the state $|1\\rangle$ with probability $|\\beta|^2$.\n",
    "\n",
    "$|\\psi\\rangle$ can also be represented as a column vector of coefficients of basis states:\n",
    "\n",
    "$$|\\psi\\rangle = \\begin{pmatrix}\\alpha \\\\ \\beta \\end{pmatrix}; |0\\rangle = \\begin{pmatrix}1 \\\\0\\end{pmatrix}; |1\\rangle\\begin{pmatrix}0 \\\\ 1 \\end{pmatrix}$$"
   ]
  },
  {
   "cell_type": "markdown",
   "id": "33ecf702",
   "metadata": {},
   "source": [
    "### Bloch sphere\n",
    "\n",
    "The absolute squares of the probability amplitudes, $|\\alpha|^2$ and $|\\beta|^2$,\n",
    "represent the probability of the corresponding measurement outcome. \n",
    "A basic rule for probability is that the probabilities of all possible outcomes must add up to $1$,\n",
    "so it follows that $\\alpha$ and $\\beta$ must be constrained by the equation:\n",
    "\n",
    "$$|\\alpha|^2+ |\\beta|^2 = 1$$\n",
    "    \n",
    "Ignoring the global phase of a qubit, only two real numbers are required to describe a single qubit quantum state.\n",
    "A convenient representation is\n",
    "\n",
    "$$|\\psi\\rangle = \\cos(\\theta/2)|0\\rangle + \\sin(\\theta/2)e^{i\\phi}|1\\rangle$$ \n",
    "\n",
    "where $0 \\leq \\phi < 2\\pi$, and $0\\leq \\theta \\leq \\pi$.\n",
    "\n",
    "It is then possible to create a one-to-one correspondence between a qubit state ($\\mathbb{C}^2$)\n",
    "and the points on the surface of a unit sphere ($\\mathbb{R}^3$).\n",
    "This is called the Bloch sphere representation of a qubit state.\n",
    "\n",
    "By contrast, a representation of a classical bit over the Bloch sphere would only require the two points of the sphere intersecting the Z axis.\n",
    "\n",
    "<img src=\"https://upload.wikimedia.org/wikipedia/commons/thumb/6/6b/Bloch_sphere.svg/800px-Bloch_sphere.svg.png\" width=\"250px\" align=\"center\" >"
   ]
  },
  {
   "cell_type": "markdown",
   "id": "a1b6d4c1",
   "metadata": {},
   "source": [
    "# 4. Single-Qubit Operations <a id='operations'>\n",
    "\n",
    "Quantum gates/operations are generally expressed as matrices. The action of the quantum gate on the qubit is determined by multiplying the matrix representing the gate with the vector which represents the quantum state.\n",
    "$$|\\psi ' \\rangle = U|\\psi\\rangle$$\n",
    "\n",
    "Some of the single-qubit operations available are:\n",
    "* Measurement gates\n",
    "* Pauli gates\n",
    "* Hadamard gate"
   ]
  },
  {
   "cell_type": "markdown",
   "id": "03d79812",
   "metadata": {},
   "source": [
    "> **Importing Qiski**\n",
    ">> The following sections will make use of Qiskit to design and visualize circuits and quantum operations. \n",
    ">> **The execution of the code cells in this notebook requires that the relevant Qiskit modules be imported first.**\n",
    ">> To execute a code block, select a code cell and press `SHIFT + ENTER`. Consecutive cells can be executed by repeating this command. "
   ]
  },
  {
   "cell_type": "code",
   "execution_count": null,
   "id": "4d1db277",
   "metadata": {},
   "outputs": [],
   "source": [
    "# Comments on code cells are preceded by '#'\n",
    "\n",
    "# Relevant QISKit modules\n",
    "\n",
    "from qiskit import QuantumCircuit, ClassicalRegister, QuantumRegister, Aer, BasicAer, execute\n",
    "\n",
    "from qiskit.tools.visualization import *\n",
    "\n",
    "# Useful additional packages \n",
    "\n",
    "import matplotlib.pyplot as plt\n",
    "%matplotlib inline\n",
    "import numpy as np\n",
    "from math import pi\n",
    "\n",
    "# Output a message to confirm all modules are imported\n",
    "\n",
    "print(\"Modules successfully imported.\")"
   ]
  },
  {
   "cell_type": "code",
   "execution_count": null,
   "id": "6d6acdb8",
   "metadata": {},
   "outputs": [],
   "source": [
    "# for this presentation I will hide the warnings\n",
    "import warnings\n",
    "warnings.filterwarnings('ignore')"
   ]
  },
  {
   "cell_type": "markdown",
   "id": "4712748d",
   "metadata": {},
   "source": [
    "> Before building a quantum circuit, we first neet to define a `QuantumRegister(n)` object, with `n` being the desired number of qubits. \n",
    "\n",
    "> To perform measurements, a `ClassicalRegister(m)` is also required, where `m` is the number of bits to contain the results of the measurement. \n",
    "\n",
    "> Lastly, a `QuantumCircuit` object needs to be defined, containing a list of quantum and classical registers. Quantum operations may then be called on this object.\n",
    "\n",
    "> The measurement operation `measure(qr[i], cr[j])` is called by specifying the quantum register `qr`and qubit `i` to be measured, and the classical register `cr` and bit `j` which is to store the measurement value. A measurement can also be called over the complete register, provided that registers `qr` and `cr` are the same size: `measure(qr, cr)`.   A complete circuit can be visualized graphically by calling the `draw` method. "
   ]
  },
  {
   "cell_type": "code",
   "execution_count": null,
   "id": "66906c9c",
   "metadata": {},
   "outputs": [],
   "source": [
    "# Create quantum register with 2 qubits\n",
    "qr = QuantumRegister(2)\n",
    "\n",
    "# Create a classical register with 2 bits\n",
    "cr = ClassicalRegister(2)\n",
    "\n",
    "# Quantum circuit\n",
    "qc = QuantumCircuit(qr, cr)\n",
    "\n",
    "#Measurement operation\n",
    "qc.measure(qr, cr)\n",
    "\n",
    "# Draw circuit (using matplotlib)\n",
    "qc.draw(output='mpl')"
   ]
  },
  {
   "cell_type": "markdown",
   "id": "73578f97",
   "metadata": {},
   "source": [
    "> **Statevector simulator**  \n",
    ">> Quantum states can be verified through **Aer** simulators, such as the `statevector_simulator`. This simulator is able to determine the vector describing the state of all qubits at a given point.   To use it, we only need to define the the statevector simulator as our execution backend. \n",
    "\n",
    "> **Note**: To get accurate results from the statevector simulator, no measurement operations can be applied to the circuit, since measurements collapse superposition states into deterministic ones. "
   ]
  },
  {
   "cell_type": "code",
   "execution_count": null,
   "id": "e360bc12",
   "metadata": {},
   "outputs": [],
   "source": [
    "# First, define the statevector simulator as your backend\n",
    "backend = Aer.get_backend(\"statevector_simulator\")\n",
    "\n",
    "# Execute circuit with the statevector simulator\n",
    "result = execute(qc, backend).result()\n",
    "\n",
    "# Get statevector representation\n",
    "vector = result.get_statevector(qc)\n",
    "\n",
    "print(vector)"
   ]
  },
  {
   "cell_type": "markdown",
   "id": "25949812",
   "metadata": {},
   "source": [
    "## Practical exercise: single-qubit operations¶\n",
    "\n",
    "Consider you have a chip that allows you to add $X$-gates to your circuit."
   ]
  },
  {
   "cell_type": "code",
   "execution_count": null,
   "id": "6a49147f",
   "metadata": {},
   "outputs": [],
   "source": [
    "# Define quantum circuit qc_x\n",
    "qr = QuantumRegister(1)\n",
    "cr = ClassicalRegister(1)\n",
    "qc_x = QuantumCircuit(qr,cr)\n",
    "\n",
    "# Applying quantum gates:\n",
    "# qc_x.<GATE>(qr)\n",
    "\n",
    "# In this case you only need to replace <GATE> by x\n",
    "qc_x.x(qr)\n",
    "\n",
    "# Draw the circuit\n",
    "qc_x.draw(output='mpl')"
   ]
  },
  {
   "cell_type": "code",
   "execution_count": null,
   "id": "ab651209",
   "metadata": {},
   "outputs": [],
   "source": [
    "# Execute circuit with the statevector simulator\n",
    "result_x = execute(qc_x, backend).result()\n",
    "\n",
    "# Get statevector representation\n",
    "vector_x = result_x.get_statevector(qc_x)\n",
    "\n",
    "# draw bloch sphere\n",
    "plot_bloch_multivector(vector_x)"
   ]
  },
  {
   "cell_type": "markdown",
   "id": "aa5a9fe7",
   "metadata": {},
   "source": [
    "### 1\n",
    "\n",
    "Now, test how the result changes when you use the `qc_x.x(qr)` command multiple times.\n",
    "\n",
    "|0 X-gates| 1 X-gate| 2 X-gates |3 X-gates|\n",
    "|-|-|-|-|\n",
    "|state 0| \tstate 1| \t?| \t?|\n",
    "\n",
    "Fill the table.\n"
   ]
  },
  {
   "cell_type": "code",
   "execution_count": null,
   "id": "b8561d5c",
   "metadata": {},
   "outputs": [],
   "source": [
    "# Define quantum circuit qc_x\n",
    "qr = QuantumRegister(1)\n",
    "cr = ClassicalRegister(1)\n",
    "qc_x = QuantumCircuit(qr,cr)\n",
    "\n",
    "\n",
    "# Add 2 x-gates\n",
    "\n",
    "\n",
    "\n",
    "qc_x.draw(output='mpl')"
   ]
  },
  {
   "cell_type": "code",
   "execution_count": null,
   "id": "1c9cbbc3",
   "metadata": {},
   "outputs": [],
   "source": [
    "# Visualize Bloch sphere again\n",
    "result_x = execute(qc_x, backend).result()\n",
    "bloch_x = result_x.get_statevector(qc_x)\n",
    "plot_bloch_multivector(bloch_x)"
   ]
  },
  {
   "cell_type": "code",
   "execution_count": null,
   "id": "35086216",
   "metadata": {},
   "outputs": [],
   "source": [
    "# You can also just add X-gates to a previously defined circuit\n",
    "\n",
    "\n",
    "qc_x.draw(output='mpl')"
   ]
  },
  {
   "cell_type": "code",
   "execution_count": null,
   "id": "7fa7fa71",
   "metadata": {},
   "outputs": [],
   "source": [
    "# Test results\n",
    "result_x = execute(qc_x, backend).result()\n",
    "bloch_x = result_x.get_statevector(qc_x)\n",
    "plot_bloch_multivector(bloch_x)"
   ]
  },
  {
   "cell_type": "markdown",
   "id": "2ec51192",
   "metadata": {},
   "source": [
    "### 2\n",
    "\n",
    "By now your probably already notice that $X$ works like the classical NOT gate.\n",
    "\n",
    "Let's introduce a new gate. Hadamard, the superposition gate. Qiskit simply calls it `h`."
   ]
  },
  {
   "cell_type": "code",
   "execution_count": null,
   "id": "88e8d2a8",
   "metadata": {},
   "outputs": [],
   "source": [
    "# Define quantum circuit qc_h\n",
    "qr = QuantumRegister(1)\n",
    "cr = ClassicalRegister(1)\n",
    "qc_h = QuantumCircuit(qr,cr)\n",
    "\n",
    "# qc_h.<GATE>(qr)\n",
    "# in this case you only need to replace <GATE> by h. See the example\n",
    "qc_h.h(qr)\n",
    "\n",
    "qc_h.draw(output='mpl')"
   ]
  },
  {
   "cell_type": "code",
   "execution_count": null,
   "id": "0c153836",
   "metadata": {},
   "outputs": [],
   "source": [
    "result_h = execute(qc_h, backend).result()\n",
    "bloch_h = result_h.get_statevector(qc_h)\n",
    "plot_bloch_multivector(bloch_h)"
   ]
  },
  {
   "cell_type": "markdown",
   "id": "7b6f6f4f",
   "metadata": {},
   "source": [
    "Apply the Hadamard gate some times to get an intuition about its behavior."
   ]
  },
  {
   "cell_type": "code",
   "execution_count": null,
   "id": "b9a367f4",
   "metadata": {},
   "outputs": [],
   "source": [
    "qc_h = QuantumCircuit(qr,cr)\n",
    "\n",
    "# write your circuit:\n",
    "\n",
    "\n",
    "qc_h.draw(output='mpl')"
   ]
  },
  {
   "cell_type": "code",
   "execution_count": null,
   "id": "c8febef3",
   "metadata": {},
   "outputs": [],
   "source": [
    "result_h = execute(qc_h, backend).result()\n",
    "bloch_h = result_h.get_statevector(qc_h)\n",
    "plot_bloch_multivector(bloch_h)"
   ]
  },
  {
   "cell_type": "code",
   "execution_count": null,
   "id": "f0d10fa8",
   "metadata": {},
   "outputs": [],
   "source": [
    "qc_h = QuantumCircuit(qr,cr)\n",
    "\n",
    "# write your circuit\n",
    "\n",
    "qc_h.draw(output='mpl')"
   ]
  },
  {
   "cell_type": "code",
   "execution_count": null,
   "id": "22b5a9a5",
   "metadata": {},
   "outputs": [],
   "source": [
    "result_h = execute(qc_h, backend).result()\n",
    "bloch_h = result_h.get_statevector(qc_h)\n",
    "plot_bloch_multivector(bloch_h)"
   ]
  },
  {
   "cell_type": "markdown",
   "id": "1646455f",
   "metadata": {},
   "source": [
    "### 3"
   ]
  },
  {
   "cell_type": "markdown",
   "id": "2f53b8bf",
   "metadata": {},
   "source": [
    "Add measure gate after an odd number of Hadamard gates."
   ]
  },
  {
   "cell_type": "code",
   "execution_count": null,
   "id": "6abe71a0",
   "metadata": {
    "scrolled": true
   },
   "outputs": [],
   "source": [
    "qc_h = QuantumCircuit(qr,cr)\n",
    "\n",
    "# qc_h.<GATE>(qr)\n",
    "# in this case you only need to replace <GATE> by h. See the example\n",
    "qc_h.h(qr)\n",
    "#measure gate need the classical registers\n",
    "qc_h.measure(qr,cr)\n",
    "\n",
    "qc_h.draw(output='mpl')"
   ]
  },
  {
   "cell_type": "code",
   "execution_count": null,
   "id": "0f90a8e7",
   "metadata": {
    "scrolled": true
   },
   "outputs": [],
   "source": [
    "result_h = execute(qc_h, backend).result()\n",
    "bloch_h = result_h.get_statevector(qc_h)\n",
    "plot_bloch_multivector(bloch_h)"
   ]
  },
  {
   "cell_type": "markdown",
   "id": "bd722a1b",
   "metadata": {},
   "source": [
    "Three executions were already made, fill the table with the rest of the outputs and add executions if you want.\n",
    "\n",
    "\n",
    "|execution number|1|2|3|4|5|6|7|8|9|10|11|12|13|14|15|...|\n",
    "|----------------|-|-|-|-|-|-|-|-|-|--|--|--|--|--|--|---|\n",
    "|output          |1|1|0| | | | | | |  |  |  |  |  |  |...|"
   ]
  },
  {
   "cell_type": "markdown",
   "id": "84ca89f9",
   "metadata": {},
   "source": [
    "<div class=\"alert alert-block alert-info\">\n",
    "    \n",
    "The Hadamard gate creates **superposition**.\n",
    "\n",
    "&nbsp;\n",
    "  \n",
    "   <p>This is the story about Schrödinger's cat. The poor cat is in a box with radioactive material, which can release some particles or not. If the material releases particles, they will set in motion a chain of events that will kill the cat. </p>\n",
    "    \n",
    "   - After 1 hour the cat has a probability of 50% of being dead.</p>\n",
    "    \n",
    "   - Since we can not be sure until we open the box, we say that can is alive and dead during that hour.</p> \n",
    "   \n",
    "\n",
    "    \n",
    "   <p>In other words, the cat is in every possible state until it is observed.</p>\n",
    "    \n",
    "</div>"
   ]
  },
  {
   "cell_type": "markdown",
   "id": "37327164",
   "metadata": {},
   "source": [
    "### 4"
   ]
  },
  {
   "cell_type": "markdown",
   "id": "aefa054f",
   "metadata": {},
   "source": [
    "Consider a case where our qubit started in superposition:"
   ]
  },
  {
   "cell_type": "code",
   "execution_count": null,
   "id": "72820d44",
   "metadata": {},
   "outputs": [],
   "source": [
    "qc_h = QuantumCircuit(qr,cr)\n",
    "\n",
    "# qc_h.<GATE>(qr)\n",
    "# in this case you only need to replace <GATE> by h. See the example\n",
    "qc_h.h(qr)\n",
    "#add a x-gate:\n",
    "\n",
    "\n",
    "qc_h.draw(output='mpl')"
   ]
  },
  {
   "cell_type": "markdown",
   "id": "e889a1a2",
   "metadata": {},
   "source": [
    "What was the result?"
   ]
  },
  {
   "cell_type": "code",
   "execution_count": null,
   "id": "aa9c8805",
   "metadata": {},
   "outputs": [],
   "source": [
    "result_h = execute(qc_h, backend).result()\n",
    "bloch_h = result_h.get_statevector(qc_h)\n",
    "plot_bloch_multivector(bloch_h)"
   ]
  },
  {
   "cell_type": "markdown",
   "id": "f1b70647",
   "metadata": {},
   "source": [
    "### 5"
   ]
  },
  {
   "cell_type": "markdown",
   "id": "df3a20b8",
   "metadata": {},
   "source": [
    "You have a new chip, which has the quantum logic gate Z.\n",
    "\n",
    "Execute the circuit with one and two z gates."
   ]
  },
  {
   "cell_type": "code",
   "execution_count": null,
   "id": "c89d9349",
   "metadata": {},
   "outputs": [],
   "source": [
    "qc_z = QuantumCircuit(qr,cr)\n",
    "\n",
    "# start with the default state:\n",
    "# add a z-gate:\n",
    "\n",
    "\n",
    "qc_z.draw(output='mpl')"
   ]
  },
  {
   "cell_type": "code",
   "execution_count": null,
   "id": "aede909a",
   "metadata": {},
   "outputs": [],
   "source": [
    "result_z = execute(qc_z, backend).result()\n",
    "bloch_z = result_z.get_statevector(qc_z)\n",
    "plot_bloch_multivector(bloch_z)"
   ]
  },
  {
   "cell_type": "code",
   "execution_count": null,
   "id": "aa0af454",
   "metadata": {},
   "outputs": [],
   "source": [
    "qc_z = QuantumCircuit(qr,cr)\n",
    "\n",
    "# start with the default state:\n",
    "# add two z-gates:\n",
    "\n",
    "\n",
    "qc_z.draw(output='mpl')"
   ]
  },
  {
   "cell_type": "code",
   "execution_count": null,
   "id": "276d355e",
   "metadata": {},
   "outputs": [],
   "source": [
    "result_z = execute(qc_z, backend).result()\n",
    "bloch_z = result_z.get_statevector(qc_z)\n",
    "plot_bloch_multivector(bloch_z)"
   ]
  },
  {
   "cell_type": "markdown",
   "id": "c086b502",
   "metadata": {},
   "source": [
    "Put your circuit in superposition (use one Hadamard). \n",
    "\n",
    "Test your circuit twice, one with one z gate and another one with two z gates."
   ]
  },
  {
   "cell_type": "code",
   "execution_count": null,
   "id": "499b3a06",
   "metadata": {},
   "outputs": [],
   "source": [
    "qc_z = QuantumCircuit(qr,cr)\n",
    "\n",
    "# start with a superposition state:\n",
    "\n",
    "#add a z-gate:\n",
    "\n",
    "\n",
    "qc_z.draw(output='mpl')"
   ]
  },
  {
   "cell_type": "code",
   "execution_count": null,
   "id": "4c91b392",
   "metadata": {},
   "outputs": [],
   "source": [
    "result_z = execute(qc_z, backend).result()\n",
    "bloch_z = result_z.get_statevector(qc_z)\n",
    "plot_bloch_multivector(bloch_z)"
   ]
  },
  {
   "cell_type": "code",
   "execution_count": null,
   "id": "9b3d69c3",
   "metadata": {},
   "outputs": [],
   "source": [
    "qc_z = QuantumCircuit(qr,cr)\n",
    "\n",
    "# start with a superposition state:\n",
    "\n",
    "#add a z-gate:\n",
    "\n",
    "\n",
    "qc_z.draw(output='mpl')"
   ]
  },
  {
   "cell_type": "code",
   "execution_count": null,
   "id": "d6b13b5c",
   "metadata": {},
   "outputs": [],
   "source": [
    "result_z = execute(qc_z, backend).result()\n",
    "bloch_z = result_z.get_statevector(qc_z)\n",
    "plot_bloch_multivector(bloch_z)"
   ]
  },
  {
   "cell_type": "markdown",
   "id": "934d6191",
   "metadata": {},
   "source": [
    "What kind of rotation is applied by Z-gate? "
   ]
  },
  {
   "cell_type": "markdown",
   "id": "c423e425",
   "metadata": {},
   "source": [
    "### Question"
   ]
  },
  {
   "cell_type": "markdown",
   "id": "7ab4d0c7",
   "metadata": {},
   "source": [
    "\n",
    "I want to get from the default state 0 to state 1 but my chip is lacking the x gate. can you find a way to get the same result with Hadamard gates and $Z$-gates?"
   ]
  },
  {
   "cell_type": "code",
   "execution_count": null,
   "id": "257c1bb8",
   "metadata": {},
   "outputs": [],
   "source": [
    "qc = QuantumCircuit(qr,cr)\n",
    "\n",
    "# Add quantum operations\n",
    "\n",
    "\n",
    "qc.draw(output='mpl')"
   ]
  },
  {
   "cell_type": "code",
   "execution_count": null,
   "id": "a0fe43fb",
   "metadata": {},
   "outputs": [],
   "source": [
    "result = execute(qc, backend).result()\n",
    "bloch = result.get_statevector(qc)\n",
    "plot_bloch_multivector(bloch)"
   ]
  },
  {
   "cell_type": "markdown",
   "id": "8b4bbb71",
   "metadata": {},
   "source": [
    "## The theory:\n",
    "\n",
    "### Pauli gates\n",
    "\n",
    "#### Gate $X$: bit-flip gate \n",
    "\n",
    "The X-gate is also known as NOT gate or “bit-flip”, since it changes a state $| 0 \\rangle $ to $| 1 \\rangle $ and vice versa. **This is the quantum analogue to a classical NOT gate.**\n",
    "\n",
    "On the Bloch sphere representation, this operation corresponds to a rotation of the state around the X-axis by $\\pi$ radians.\n",
    "\n",
    "\n",
    "\n",
    "#### $Y$: bit-and-phase-flip gate\n",
    "\n",
    "It is equivalent to a rotation around Y-axis of the Bloch sphere by $\\pi$ radians.\n",
    "This gate maps $| 0 \\rangle $ to $i | 1 \\rangle $, and $| 1 \\rangle$ to $ - i | 0 \\rangle$\n",
    "\n",
    "#### $Z$: phase-flip gate\n",
    "\n",
    "It leaves the basis state $|0 \\rangle $ unchanged, while mapping $| 1 \\rangle$ to $- | 1 \\rangle $."
   ]
  },
  {
   "cell_type": "raw",
   "id": "1dea93e9",
   "metadata": {},
   "source": [
    "# Draw transaction on the Bloch sphere\n",
    "visualize_transition(qc, fpg=20, spg=1, trace=True)"
   ]
  },
  {
   "cell_type": "markdown",
   "id": "0750a2b0",
   "metadata": {},
   "source": [
    "## Practical exercise: multi-qubit operations"
   ]
  },
  {
   "cell_type": "markdown",
   "id": "a9b2815b",
   "metadata": {},
   "source": [
    "<div class=\"alert alert-block alert-info\">\n",
    "    \n",
    "What about **entanglement**? </p>\n",
    "\n",
    "&nbsp;\n",
    "    \n",
    "   <p>Let's get the poor cat again. Now the cat has a friend. they are both inside boxes. and they are entangled. </p>\n",
    "    \n",
    "   <p>I can take my cat home (box A) and you take your cat home (box B). Eventually, I open my box and I find my cat is dead, but at the same time, I know that your cat is alive. I didn't have to call you but I know this. </p>\n",
    "    \n",
    "</div>"
   ]
  },
  {
   "cell_type": "markdown",
   "id": "90bdf797",
   "metadata": {},
   "source": [
    "In quantum computation, entanglement is obtained by control gates.\n",
    "\n",
    "Test the gate $CX$, also called controlled-$NOT$"
   ]
  },
  {
   "cell_type": "code",
   "execution_count": null,
   "id": "06480209",
   "metadata": {
    "scrolled": true
   },
   "outputs": [],
   "source": [
    "# The control gate is a multi qubit gate\n",
    "# You now need two qubits - and two bits to store the results\n",
    "qr = QuantumRegister(2)\n",
    "cr = ClassicalRegister(2)\n",
    "\n",
    "qc_cx = QuantumCircuit(qr,cr)\n",
    "\n",
    "# qc_cx.<GATE>(qr[n], qr[m])\n",
    "# in this case you only need to replace <GATE> by cx.\n",
    "# and you also need to change n and m, \n",
    "# n will be the control qubit and m the target qubit\n",
    "\n",
    "# See the example\n",
    "qc_cx.cx(qr[0],qr[1])\n",
    "\n",
    "qc_cx.draw(output='mpl')"
   ]
  },
  {
   "cell_type": "markdown",
   "id": "63f2d98d",
   "metadata": {},
   "source": [
    "Test this circuit."
   ]
  },
  {
   "cell_type": "code",
   "execution_count": null,
   "id": "1e4358d0",
   "metadata": {
    "scrolled": true
   },
   "outputs": [],
   "source": [
    "result = execute(qc_cx, backend).result()\n",
    "bloch = result.get_statevector(qc_cx)\n",
    "plot_bloch_multivector(bloch)"
   ]
  },
  {
   "cell_type": "markdown",
   "id": "7c087971",
   "metadata": {},
   "source": [
    "### 1\n",
    "\n",
    "Change the initial state of the qubits and test cx. "
   ]
  },
  {
   "cell_type": "code",
   "execution_count": null,
   "id": "9e2fc51a",
   "metadata": {},
   "outputs": [],
   "source": [
    "qc_cx = QuantumCircuit(qr,cr)\n",
    "\n",
    "# Add x and h gate to the circuit to fill the table below\n",
    "\n",
    "# Now we have the control gate  \n",
    "qc_cx.cx(qr[0],qr[1])\n",
    "\n",
    "qc_cx.draw(output='mpl')"
   ]
  },
  {
   "cell_type": "code",
   "execution_count": null,
   "id": "7e588c42",
   "metadata": {},
   "outputs": [],
   "source": [
    "result_cx = execute(qc_cx, backend).result()\n",
    "bloch_cx = result_cx.get_statevector(qc_cx)\n",
    "plot_bloch_multivector(bloch_cx)"
   ]
  },
  {
   "cell_type": "markdown",
   "id": "f0cfac4a",
   "metadata": {},
   "source": [
    "Fill the table, feel free to add your tests.\n",
    "\n",
    "|input  |        |output   |        |\n",
    "|-------|--------|---------|--------|\n",
    "|qubit 0| qubit 1| qubit 0 | qubit 1|\n",
    "|   0   | 0      |    0    |   0    |\n",
    "|   1   | 0      |         |        |\n",
    "|   0   | 1      |         |        |\n",
    "|   1   | 1      |         |        |"
   ]
  },
  {
   "cell_type": "markdown",
   "id": "f9bf189a",
   "metadata": {},
   "source": [
    "### 2"
   ]
  },
  {
   "cell_type": "markdown",
   "id": "ed31ef37",
   "metadata": {},
   "source": [
    "Now let's test something less trivial.\n",
    "\n",
    "$CZ$ gate - control with gate $Z$ - is not in the list of the gate we can simply write in Qiskit.\n",
    "\n",
    "Find a circuit that does the same as a control-$Z$. (exercise 6 may help you)"
   ]
  },
  {
   "cell_type": "code",
   "execution_count": null,
   "id": "1d592ab3",
   "metadata": {},
   "outputs": [],
   "source": [
    "qc_cz = QuantumCircuit(qr,cr)\n",
    "\n",
    "# Write your circuit:\n",
    "\n",
    "\n",
    "qc_cz.draw(output='mpl')"
   ]
  },
  {
   "cell_type": "code",
   "execution_count": null,
   "id": "7aa03a05",
   "metadata": {},
   "outputs": [],
   "source": [
    "result = execute(qc_cz, backend).result()\n",
    "bloch = result.get_statevector(qc_cz)\n",
    "plot_bloch_multivector(bloch)"
   ]
  },
  {
   "cell_type": "markdown",
   "id": "eda85913",
   "metadata": {},
   "source": [
    "&nbsp;\n",
    "\n",
    "# 6. Multi-qubit states<a id='multi'></a>\n",
    "\n",
    "&nbsp;\n",
    "\n",
    "Multiple quantum bits can be described with the ket notation. The tensor product is typically implicit; for a state composed of qubits $q_0$ and $q_1$:\n",
    "\n",
    "&nbsp;\n",
    "\n",
    "$$\n",
    "|q_1\\rangle \\otimes |q_0\\rangle =  |q_1\\rangle |q_0\\rangle = |q_1 q_0\\rangle\n",
    "$$\n",
    "\n",
    "\n",
    "&nbsp;\n",
    "\n",
    "### Entanglement and Bloch sphere for multi-qubit states\n",
    "\n",
    "&nbsp;\n",
    "\n",
    "Since qubits can be entangled, multi-qubit states, in general, cannot be expressed by simply representing each qubit's Bloch sphere. This is because the dimension of the vector space rises exponentially with the number of qubits, to account for correlation between qubits. One attempt to visualize multi-qubit states is made [here](https://medium.com/qiskit/visualizing-bits-and-qubits-9af287047b28). \n",
    "\n",
    "**For a quantum system, its description is more than the sum of descriptions for each individual qubit.**"
   ]
  },
  {
   "cell_type": "markdown",
   "id": "7420caf6",
   "metadata": {},
   "source": [
    "&nbsp;\n",
    "\n",
    "## Multi-qubit operations<a id='multi_ops'></a>\n",
    "\n",
    "&nbsp;\n",
    "\n",
    "### CNOT gate \n",
    "\n",
    "The controlled-NOT (or controlled-$X$) gate allows for the creation of entanglement between two qubits in a quantum circuit. The CNOT gate's action on basis states is to flip, i.e. apply an $X$ gate to, the target qubit (denoted as $\\oplus$ in quantum circuits) if the control qubit  (denoted as $\\bullet$), is $|1\\rangle$; otherwise the target qubit goes unchanged.\n",
    "\n",
    "\n",
    "### Other multi-qubit operations\n",
    "\n",
    "General single qubit gates together with the $CNOT$ allow for universal quantum computations, i.e. it is possible to decompose any quantum operations over $n$ qubits to arbitrary precision, using only this set of gates. How to efficiently determine and perform such a decomposition, however, is not a trivial problem.\n",
    "    \n",
    "Other notable operators:\n",
    "\n",
    "- __SWAP gate__, which exchanges the state between two qubits;\n",
    "\n",
    "&nbsp;\n",
    "\n",
    "- __Toffoli gate__ (or **CCNOT**), which performs a NOT operations on a target qubit, using two other qubits as controls."
   ]
  },
  {
   "cell_type": "code",
   "execution_count": null,
   "id": "63701fea",
   "metadata": {},
   "outputs": [],
   "source": [
    "# Create registers and quantum circuit\n",
    "qr = QuantumRegister(3, 'qmq')\n",
    "qc_mq = QuantumCircuit(qr)\n",
    "\n",
    "# Apply Toffoli - first two arguments are the controls\n",
    "qc_mq.ccx(qr[0], qr[1], qr[2])\n",
    "\n",
    "# Swap two qubits\n",
    "qc_mq.swap(qr[1], qr[2])\n",
    "\n",
    "# Draw the circuit\n",
    "qc_mq.draw(output='mpl')"
   ]
  },
  {
   "cell_type": "markdown",
   "id": "626509db",
   "metadata": {},
   "source": [
    "> You can view a more extensive list of quantum operations on [Qiskit's online tutorials](https://nbviewer.jupyter.org/github/Qiskit/qiskit-tutorials/blob/master/qiskit/fundamentals/7_summary_of_quantum_operations.ipynb)."
   ]
  },
  {
   "cell_type": "markdown",
   "id": "9240e4a0",
   "metadata": {},
   "source": [
    "    \n",
    "## Simulating measurements in a quantum circuit\n",
    "\n",
    "> The **Aer** component allows for the simulation of the execution and measurement of a quantum circuit, locally, for a small number of qubits, using the `qasm_simulator`.\n",
    "\n",
    "> For that, we need to call the simulator using the `BasicAer.get_backend` method. We then define a *job*, i.e. the task assigned to a specific backend - simulator or real quantum processor - by calling the function `execute(qc, backend, shots)`, where `qc` is the quantum circuit to be executed, `backend` is the execution backend, and `shots` is the number of executions to be performed.\n",
    "\n",
    "> After the job is executed, we can extract a `result()`, which allows us to get the measurement result frequencies with `get_counts(qc)`, and, from that, plot an histogram of probabilities with the function `plot_histogram(counts)`."
   ]
  },
  {
   "cell_type": "markdown",
   "id": "4509368a",
   "metadata": {},
   "source": [
    "### Measurement gate\n",
    "\n",
    "A measurement causes the system to collapse to a deterministic state i.e. stabilise in a non-reversible way. A repeated measurement of the collapsed quantum system will return the same results, just like repeated readings of a bit string.\n",
    "\n",
    "When we perform a measurement on a qubit, we observe either $|0\\rangle$ or $|1\\rangle$ - which is then interpreted as a binary digit, $0$ or $1$. As such, a single measurement of a quantum system yields at most 1 bit per qubit. When a quantum system is in a superposition of basis states, many more measurements are needed to accurately estimate probability amplitudes.\n",
    "\n",
    "\n",
    "> - In Qiskit, measurement operations can be performed by defining the correspondence between the measured qubit and the bit where the result of the operation (0 or 1) is going to be stored. \n",
    "\n",
    "> - Since the measuring process physically collapses the qubit into a classical state, QISKit does not allow for subsequent quantum operations on the measured qubit."
   ]
  },
  {
   "cell_type": "code",
   "execution_count": null,
   "id": "37067256",
   "metadata": {},
   "outputs": [],
   "source": [
    "# Use Aer's qasm_simulator\n",
    "q_simulator = BasicAer.get_backend('qasm_simulator')\n",
    "\n",
    "# Define a quantum circuit\n",
    "qr = QuantumRegister(2)\n",
    "cr = ClassicalRegister(2)\n",
    "q_meas = QuantumCircuit(qr,cr)\n",
    "\n",
    "# Add quantum operations, for example H\n",
    "q_meas.h(qr[0])\n",
    "\n",
    "\n",
    "# Measure the qubits\n",
    "q_meas.measure(qr, cr)\n",
    "\n",
    "\n",
    "# Execute the circuit 1000 times on the qasm simulator\n",
    "job_a = execute(q_meas, q_simulator, shots=1000)\n",
    "\n",
    "# Grab the results from the job\n",
    "result_a = job_a.result()\n",
    "counts_a = result_a.get_counts(q_meas)\n",
    "\n",
    "# Print frequencies, and plot histogram\n",
    "print(counts_a)\n",
    "plot_histogram(counts_a)"
   ]
  },
  {
   "cell_type": "markdown",
   "id": "d5c9bb49",
   "metadata": {},
   "source": [
    "\n",
    "## Exercise - Quantum half-adder\n",
    "\n",
    "&nbsp;\n",
    "\n",
    "The half adder produces the addition of bits. Classicaly, the inputs **A** and **B** are added, and give the output **S** (sum) and **C** (carry), a bit that flips from $0$ to $1$ if both inputs are $1$.\n",
    "\n",
    "\n",
    "\n",
    "&nbsp;\n",
    "\n",
    "The truth table of inputs and outputs is below; consider that $q_0$ is left unchanged after the block, and $q_2$ is in the state $|0\\rangle$ at input.\n",
    "\n",
    "\n",
    "<table>\n",
    "  <tr>\n",
    "    <th>$q_0$ (input) = A</th>\n",
    "    <th>$q_1$ (input) = B</th>\n",
    "    <th>$q_1$ (output) = S</th>\n",
    "    <th>$q_2$ (output) = C</th>\n",
    "  </tr>\n",
    "  <tr>\n",
    "    <td>0</td>\n",
    "    <td>0</td>\n",
    "    <td>0</td>\n",
    "    <th>0</th>\n",
    "  </tr>\n",
    "  <tr>\n",
    "    <td>1</td>\n",
    "    <td>0</td>\n",
    "    <td>1</td>\n",
    "    <td>0</td>\n",
    "  </tr>\n",
    "  <tr>\n",
    "    <td>0</td>\n",
    "    <td>1</td>\n",
    "    <td>1</td>\n",
    "    <td>0</td>\n",
    "  </tr>\n",
    "  <tr>\n",
    "    <td>1</td>\n",
    "    <td>1</td>\n",
    "    <td>0</td>\n",
    "    <td>1</td>\n",
    "  </tr>\n",
    "</table>\n",
    "\n",
    "\n",
    "To build the equivalent block with quantum circuits, we will need 3 qubits, which is the minimum number of qubits to guarantee that this block is reversible. \n",
    "\n",
    "&nbsp;\n",
    "\n",
    " 1. Using $CNOT$ and/or ***Toffoli*** gates, build a quantum half-adder circuit.</p>\n",
    " 2. How to interpret the result when the inputs are in superposition?</p>\n",
    "\n"
   ]
  },
  {
   "cell_type": "code",
   "execution_count": null,
   "id": "4225cf81",
   "metadata": {},
   "outputs": [],
   "source": [
    "# Create registers\n",
    "qr = QuantumRegister(3)\n",
    "cr = ClassicalRegister(3)\n",
    "\n",
    "# Quantum Circuit\n",
    "half_adder = QuantumCircuit(qr, cr)\n",
    "\n",
    "# Prepare input states. Example: A=1, B=0\n",
    "half_adder.x(qr[0])\n",
    "\n",
    "# Perform multiqubit operations\n",
    "\n",
    "\n",
    "# Barriers make circuits prettier\n",
    "half_adder.barrier()\n",
    "\n",
    "# Measure\n",
    "half_adder.measure(qr[0], cr[0])\n",
    "half_adder.measure(qr[1], cr[1])\n",
    "half_adder.measure(qr[2], cr[2])\n",
    "\n",
    "# Draw\n",
    "half_adder.draw(output='mpl')"
   ]
  },
  {
   "cell_type": "code",
   "execution_count": null,
   "id": "d2c99c4c",
   "metadata": {},
   "outputs": [],
   "source": [
    "job_ha = execute(half_adder, q_simulator, shots=1000)\n",
    "\n",
    "counts_ha = job_ha.result().get_counts(half_adder)\n",
    "\n",
    "print(counts_ha)\n",
    "\n",
    "plot_histogram(counts_ha)"
   ]
  },
  {
   "cell_type": "markdown",
   "id": "7cceb8bd",
   "metadata": {},
   "source": [
    "&nbsp;\n",
    "\n",
    "# 7. Deutsch-Josza Algorithm <a id ='DJ'></a>"
   ]
  },
  {
   "cell_type": "markdown",
   "id": "bdfe9046",
   "metadata": {
    "slideshow": {
     "slide_type": "subslide"
    }
   },
   "source": [
    "### Problem formulation\n",
    "\n",
    "Consider a function $f: \\{0,1\\}^n \\rightarrow \\{0,1\\}$ that maps an array of $n$  bits into either 0 or 1. We do not know the logic behind it. **We know that it is either constant or balanced**:\n",
    "- **Constant**: its output is always 0 or always 1;\n",
    "- **Balanced**: outputs 0 for half the input values and 1 for the other half.\n",
    "\n",
    "\n",
    "For the case that $n=1$ we have $f: \\{0,1\\} \\rightarrow \\{0,1\\}$ that maps a single bit into either 0 or 1. We are given a black box, an **oracle**, that takes as input a bit and outputs the unknown value.\n",
    "<p>\n",
    "\n",
    "\n"
   ]
  },
  {
   "cell_type": "markdown",
   "id": "55520c80",
   "metadata": {
    "slideshow": {
     "slide_type": "subslide"
    }
   },
   "source": [
    "<div class=\"alert alert-block alert-info\">\n",
    "\n",
    "To answer this question classically, we would always need two function invocations. We could do $f(0)$ and $f(1)$ and see if it is either constant or balanced. \n",
    "\n",
    "With a quantum computer, we can do a ***single pass*** over the oracle gate discover whether it is constant or balanced, an impossible feat in classical computing. \n",
    "\n",
    "Generalizing for a function $f: \\{0,1\\}^n \\rightarrow \\{0,1\\}$, a classical algorithm would need $2^{n-1}+1$ passes, while **a quantum function would still require 1 pass**.\n",
    "\n",
    "</div>"
   ]
  },
  {
   "cell_type": "markdown",
   "id": "c28b184a",
   "metadata": {
    "slideshow": {
     "slide_type": "subslide"
    }
   },
   "source": [
    "\n",
    "<p>\n",
    "\n",
    "### Algorithm\n",
    "\n",
    "\n",
    "<p>\n",
    "<p>\n",
    "\n",
    "\n",
    "What are the results of measurement?\n",
    "- if f is constant $\\rightarrow$ output is $|0 \\cdots 0\\rangle$\n",
    "- if f is balanced $\\rightarrow$ output is otherwise.\n",
    "\n",
    "&nbsp;\n",
    "\n",
    "\n",
    "### The Deutsch-Josza algorithm demonstrates quantum paralelism\n",
    "\n",
    "A quantum register has the ability to exist in a superposition of base states - each one may be thought of as a single argument to a function. \n",
    "\n",
    "A function performed on the register in a superposition of states is thus performed on each of the components of the superposition, _while only being applied once_.\n",
    "\n",
    "\n",
    "&nbsp;\n",
    "\n",
    "### Exercise\n",
    "\n",
    "1. Implement the Deutsch-Josza algorithm arount the _black box_ in the circuit below. Use the results to find if the box is encoding a constant or a balanced function.\n",
    "\n",
    "2. Verify the result by building a truth table for the oracle (below).\n",
    "\n",
    "|input  |        |output   |\n",
    "|-------|--------|---------|\n",
    "|qubit 0| qubit 1| qubit 2 |\n",
    "|   0   | 0      |         |\n",
    "|   1   | 0      |         |\n",
    "|   0   | 1      |         |\n",
    "|   1   | 1      |         |"
   ]
  },
  {
   "cell_type": "code",
   "execution_count": null,
   "id": "c2876754",
   "metadata": {
    "slideshow": {
     "slide_type": "subslide"
    }
   },
   "outputs": [],
   "source": [
    "# A quantum circuit with 3 qubits and 2 bits\n",
    "qr = QuantumRegister(3)\n",
    "cr = ClassicalRegister(2)\n",
    "qc = QuantumCircuit(qr,cr)\n",
    "\n",
    "# Flip the last qubit to |1>, add Hadamards to whole register\n",
    "\n",
    "\n",
    "\n",
    "\n",
    "# Oracle\n",
    "qc.barrier()\n",
    "qc.cx(qr[0],qr[2])\n",
    "qc.cx(qr[1],qr[2])\n",
    "qc.barrier()\n",
    "\n",
    "# Return qubits to the computational basis\n",
    "\n",
    "\n",
    "# Measure\n",
    "qc.measure(qr[0], cr[0])\n",
    "qc.measure(qr[1], cr[1])\n",
    "\n",
    "# Draw the circuit\n",
    "qc.draw(output='mpl')"
   ]
  },
  {
   "cell_type": "code",
   "execution_count": null,
   "id": "1cc6158d",
   "metadata": {
    "scrolled": true,
    "slideshow": {
     "slide_type": "subslide"
    }
   },
   "outputs": [],
   "source": [
    "backend = BasicAer.get_backend(\"qasm_simulator\")\n",
    "\n",
    "shots = 1\n",
    "job_DJ_s = execute(qc, backend, shots=shots)\n",
    "\n",
    "result_DJ_s = job_DJ_s.result()\n",
    "counts_DJ_sim = result_DJ_s.get_counts(qc)\n",
    "\n",
    "plot_histogram(counts_DJ_sim)"
   ]
  },
  {
   "cell_type": "markdown",
   "id": "6f2f937a",
   "metadata": {},
   "source": [
    "# 8. IBM Q Provider <a id ='ibmq_provider'></a>\n",
    "### Running circuits on an real quantum chip"
   ]
  },
  {
   "cell_type": "markdown",
   "id": "ce044cba",
   "metadata": {
    "slideshow": {
     "slide_type": "slide"
    }
   },
   "source": [
    "### IBM Quantum Experience\n",
    "\n",
    "IBM Quantum Experience is an online platform that allows anyone it may concern the access to Quantum processors via clould. \n",
    "How to start:\n",
    "\n",
    "1. Follow the link: [https://quantum-computing.ibm.com/](https://quantum-computing.ibm.com/)\n",
    "2. Create an account.\n"
   ]
  },
  {
   "cell_type": "markdown",
   "id": "f1c07a11",
   "metadata": {
    "slideshow": {
     "slide_type": "fragment"
    }
   },
   "source": [
    "In this webpage you can find a lot of information about the backends availables and your circuits. \n",
    "\n",
    "Moreover, you have access to:\n",
    "\n",
    "* [Circuit Composer]()\n",
    "* [Quantum Lab]()"
   ]
  },
  {
   "cell_type": "code",
   "execution_count": null,
   "id": "baa7991e",
   "metadata": {
    "slideshow": {
     "slide_type": "subslide"
    }
   },
   "outputs": [],
   "source": [
    "# Import the IBMQ provider\n",
    "from qiskit import IBMQ\n",
    "\n",
    "# Load account credentials\n",
    "IBMQ.load_account()\n",
    "\n",
    "# Or you can use:\n",
    "#IBMQ.enable_account(\"APItoken\")"
   ]
  },
  {
   "cell_type": "code",
   "execution_count": null,
   "id": "b6bae959",
   "metadata": {
    "slideshow": {
     "slide_type": "fragment"
    }
   },
   "outputs": [],
   "source": [
    "# Checking the available backends from the IBMQ provider\n",
    "\n",
    "my_provider_ibmq = IBMQ.get_provider(hub='ibm-q', group='open', project='main') \n",
    "\n",
    "my_provider_ibmq.backends()"
   ]
  },
  {
   "cell_type": "code",
   "execution_count": null,
   "id": "2f78b1e1",
   "metadata": {
    "slideshow": {
     "slide_type": "subslide"
    }
   },
   "outputs": [],
   "source": [
    "# Backend overview\n",
    "import qiskit.tools.jupyter\n",
    "\n",
    "%qiskit_backend_overview"
   ]
  },
  {
   "cell_type": "code",
   "execution_count": null,
   "id": "8691fe59",
   "metadata": {
    "slideshow": {
     "slide_type": "subslide"
    }
   },
   "outputs": [],
   "source": [
    "# Define backend\n",
    "\n",
    "from qiskit.providers.ibmq import least_busy\n",
    "my_devices = my_provider_ibmq.backends(filters=lambda x: x.configuration().n_qubits > 2\n",
    "                                    and not x.configuration().simulator\n",
    "                                    and x.status().operational==True)\n",
    "backend = least_busy(my_devices)\n",
    "\n",
    "# See backend information\n",
    "backend\n",
    "\n",
    "# Or alternatively\n",
    "# backend_monitor(backend)"
   ]
  },
  {
   "cell_type": "code",
   "execution_count": null,
   "id": "a0f73f4a",
   "metadata": {},
   "outputs": [],
   "source": [
    "backend = my_provider_ibmq.get_backend('ibmq_belem')"
   ]
  },
  {
   "cell_type": "markdown",
   "id": "604449b7",
   "metadata": {},
   "source": [
    "## 5.1. Running in Real Device <a id='run_r'></a>"
   ]
  },
  {
   "cell_type": "code",
   "execution_count": null,
   "id": "84ed3608",
   "metadata": {},
   "outputs": [],
   "source": [
    "# Monitor queued jobs\n",
    "%qiskit_job_watcher"
   ]
  },
  {
   "cell_type": "raw",
   "id": "d6b6c6de",
   "metadata": {
    "slideshow": {
     "slide_type": "fragment"
    }
   },
   "source": [
    "# Define number of experiments\n",
    "shots = 1024\n",
    "job_DJ_r = execute(qc, backend, shots=shots)\n",
    "\n",
    "# Save job ID if you wish to retrieve results later\n",
    "jobID_DJ_r = job_DJ_r.job_id()\n",
    "\n",
    "print('JOB ID: {}'.format(jobID_DJ_r))"
   ]
  },
  {
   "cell_type": "code",
   "execution_count": null,
   "id": "0119080d",
   "metadata": {},
   "outputs": [],
   "source": [
    "jobID_DJ_r = '60edcf00dc685db8739e25e4'"
   ]
  },
  {
   "cell_type": "code",
   "execution_count": null,
   "id": "b8b14039",
   "metadata": {
    "slideshow": {
     "slide_type": "fragment"
    }
   },
   "outputs": [],
   "source": [
    "# Now you can retrieve job using the ID\n",
    "job_get=backend.retrieve_job(jobID_DJ_r)\n",
    "\n",
    "# Get measurement information\n",
    "counts_DJ_run = job_get.result().get_counts(qc)"
   ]
  },
  {
   "cell_type": "code",
   "execution_count": null,
   "id": "5a329f47",
   "metadata": {
    "scrolled": false,
    "slideshow": {
     "slide_type": "subslide"
    }
   },
   "outputs": [],
   "source": [
    "plot_histogram([counts_DJ_run, counts_DJ_sim ], legend=[ 'run in real device', 'ideal'])"
   ]
  },
  {
   "cell_type": "markdown",
   "id": "e0a3e778",
   "metadata": {},
   "source": [
    "## 5.2. Transpiler <a id = 'transpiler'></a> "
   ]
  },
  {
   "cell_type": "code",
   "execution_count": null,
   "id": "ce326361",
   "metadata": {
    "slideshow": {
     "slide_type": "subslide"
    }
   },
   "outputs": [],
   "source": [
    "from qiskit.compiler import transpile\n",
    "\n",
    "qc_t_real = transpile(qc, backend=backend)\n",
    "\n",
    "qc_t_real.draw(output='mpl')"
   ]
  },
  {
   "cell_type": "code",
   "execution_count": null,
   "id": "ffecc36d",
   "metadata": {},
   "outputs": [],
   "source": [
    "qc.depth()"
   ]
  },
  {
   "cell_type": "code",
   "execution_count": null,
   "id": "37630ad4",
   "metadata": {},
   "outputs": [],
   "source": [
    "qc_t_real.depth()"
   ]
  },
  {
   "cell_type": "code",
   "execution_count": null,
   "id": "10cd1edf",
   "metadata": {},
   "outputs": [],
   "source": [
    "from qiskit.visualization import plot_circuit_layout\n",
    "plot_circuit_layout(qc_t_real, backend)"
   ]
  },
  {
   "cell_type": "code",
   "execution_count": null,
   "id": "546e781b",
   "metadata": {},
   "outputs": [],
   "source": [
    "qc_t_opt = transpile(qc, backend=backend, optimization_level=3)\n",
    "plot_circuit_layout(qc_t_opt, backend)"
   ]
  },
  {
   "cell_type": "code",
   "execution_count": null,
   "id": "d8ac7007",
   "metadata": {},
   "outputs": [],
   "source": [
    "qc_t_opt.draw(output='mpl')"
   ]
  },
  {
   "cell_type": "markdown",
   "id": "843d8a4a",
   "metadata": {
    "slideshow": {
     "slide_type": "slide"
    }
   },
   "source": [
    "## Final remarks"
   ]
  },
  {
   "cell_type": "markdown",
   "id": "5fba1682",
   "metadata": {
    "slideshow": {
     "slide_type": "fragment"
    }
   },
   "source": [
    "* High-tech industries notice the quantum computation due to its applications on\n",
    "    * machine learning\n",
    "    * finance\n",
    "    * otimizations\n",
    "    * chemistry, physics and biology\n",
    "* Right now, the field has a generous amount of investments,and we are in the initial stage of the quantum computing history. \n",
    "* There is still plenty of open problems to enter the next Era of quantum computing. "
   ]
  },
  {
   "cell_type": "code",
   "execution_count": null,
   "id": "1beaaa98",
   "metadata": {
    "scrolled": true,
    "slideshow": {
     "slide_type": "subslide"
    }
   },
   "outputs": [],
   "source": [
    "import qiskit.tools.jupyter\n",
    "%qiskit_version_table"
   ]
  },
  {
   "cell_type": "code",
   "execution_count": null,
   "id": "ba5e9d58",
   "metadata": {},
   "outputs": [],
   "source": []
  }
 ],
 "metadata": {
  "kernelspec": {
   "display_name": "Python 3",
   "language": "python",
   "name": "python3"
  },
  "language_info": {
   "codemirror_mode": {
    "name": "ipython",
    "version": 3
   },
   "file_extension": ".py",
   "mimetype": "text/x-python",
   "name": "python",
   "nbconvert_exporter": "python",
   "pygments_lexer": "ipython3",
   "version": "3.9.4"
  }
 },
 "nbformat": 4,
 "nbformat_minor": 5
}
